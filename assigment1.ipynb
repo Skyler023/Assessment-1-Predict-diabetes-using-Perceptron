{
 "cells": [
  {
   "cell_type": "code",
   "execution_count": 26,
   "id": "bcb9b1b6",
   "metadata": {},
   "outputs": [
    {
     "name": "stdout",
     "output_type": "stream",
     "text": [
      "   Label         1         2         3         4         5         6  \\\n",
      "0   -1.0 -0.294118  0.487437  0.180328 -0.292929 -1.000000  0.001490   \n",
      "1    1.0 -0.882353 -0.145729  0.081967 -0.414141 -1.000000 -0.207153   \n",
      "2   -1.0 -0.058824  0.839196  0.049180 -1.000000 -1.000000 -0.305514   \n",
      "3    1.0 -0.882353 -0.105528  0.081967 -0.535354 -0.777778 -0.162444   \n",
      "4   -1.0 -1.000000  0.376884 -0.344262 -0.292929 -0.602837  0.284650   \n",
      "\n",
      "          7         8  \n",
      "0 -0.531170 -0.033333  \n",
      "1 -0.766866 -0.666667  \n",
      "2 -0.492741 -0.633333  \n",
      "3 -0.923997 -1.000000  \n",
      "4  0.887276 -0.600000  \n"
     ]
    }
   ],
   "source": [
    "import sys\n",
    "import sklearn\n",
    "import scipy\n",
    "import pandas as pd\n",
    "import numpy as np\n",
    "import matplotlib.pyplot as plt\n",
    "import seaborn as sns\n",
    "from numpy import std\n",
    "from collections import Counter\n",
    "from numpy import mean\n",
    "import warnings\n",
    "\n",
    "warnings.filterwarnings(\"ignore\")\n",
    "\n",
    "from sklearn.model_selection import train_test_split, cross_val_score, KFold, RepeatedStratifiedKFold\n",
    "from sklearn.neighbors import KNeighborsClassifier\n",
    "from sklearn.linear_model import LogisticRegression, Lasso, RidgeClassifier\n",
    "from sklearn.preprocessing import LabelEncoder\n",
    "from sklearn.metrics import accuracy_score, classification_report, confusion_matrix\n",
    "from sklearn.tree import DecisionTreeClassifier\n",
    "from sklearn.feature_selection import SelectKBest, f_classif\n",
    "from sklearn.datasets import make_classification\n",
    "from sklearn.datasets import make_classification\n",
    "from sklearn.pipeline import Pipeline\n",
    "from sklearn.ensemble import RandomForestClassifier\n",
    "\n",
    "from statsmodels.formula.api import ols\n",
    "\n",
    "pd.set_option('display.max_columns', None)\n",
    "pd.set_option('display.max_rows', None)\n",
    "\n",
    "# 从文本文件读取数据\n",
    "with open('data.txt', 'r') as file:\n",
    "    lines = file.readlines()\n",
    "\n",
    "# 创建一个空的DataFrame\n",
    "diabetes = pd.DataFrame()\n",
    "\n",
    "# 逐行处理数据并添加到DataFrame\n",
    "for line in lines:\n",
    "    # 按空格分割每一行\n",
    "    parts = line.strip().split()\n",
    "    \n",
    "    # 提取种类标签\n",
    "    label = int(parts[0])\n",
    "    \n",
    "    # 提取特征和对应的值\n",
    "    features = {}\n",
    "    for part in parts[1:]:\n",
    "        feature_number, feature_value = part.split(':')\n",
    "        features[int(feature_number)] = float(feature_value)\n",
    "    \n",
    "    # 合并种类和特征，然后将其添加到DataFrame\n",
    "    row_data = {'Label': label, **features}\n",
    "    diabetes = diabetes.append(row_data, ignore_index=True)\n",
    "\n",
    "# 打印前几行数据\n",
    "print(diabetes.head())\n"
   ]
  },
  {
   "cell_type": "code",
   "execution_count": 27,
   "id": "bbd0dc65",
   "metadata": {},
   "outputs": [],
   "source": [
    "diabetes = diabetes.dropna(subset=[1]) # 过滤掉nan数据\n",
    "diabetes = diabetes.dropna(subset=[2]) # 过滤掉nan数据\n",
    "diabetes = diabetes.dropna(subset=[3]) # 过滤掉nan数据\n",
    "diabetes = diabetes.dropna(subset=[4]) # 过滤掉nan数据\n",
    "diabetes = diabetes.dropna(subset=[5]) \n",
    "diabetes = diabetes.dropna(subset=[6]) \n",
    "diabetes = diabetes.dropna(subset=[7]) \n",
    "diabetes = diabetes.dropna(subset=[8]) # 过滤掉nan数据"
   ]
  },
  {
   "cell_type": "code",
   "execution_count": 28,
   "id": "91aac3db",
   "metadata": {},
   "outputs": [
    {
     "name": "stdout",
     "output_type": "stream",
     "text": [
      "   Label         1         2         3         4         5         6  \\\n",
      "0   -1.0 -0.294118  0.487437  0.180328 -0.292929 -1.000000  0.001490   \n",
      "1    1.0 -0.882353 -0.145729  0.081967 -0.414141 -1.000000 -0.207153   \n",
      "2   -1.0 -0.058824  0.839196  0.049180 -1.000000 -1.000000 -0.305514   \n",
      "3    1.0 -0.882353 -0.105528  0.081967 -0.535354 -0.777778 -0.162444   \n",
      "4   -1.0 -1.000000  0.376884 -0.344262 -0.292929 -0.602837  0.284650   \n",
      "\n",
      "          7         8  \n",
      "0 -0.531170 -0.033333  \n",
      "1 -0.766866 -0.666667  \n",
      "2 -0.492741 -0.633333  \n",
      "3 -0.923997 -1.000000  \n",
      "4  0.887276 -0.600000  \n"
     ]
    }
   ],
   "source": [
    "print(diabetes.head())"
   ]
  },
  {
   "cell_type": "code",
   "execution_count": 30,
   "id": "219a0bbc",
   "metadata": {},
   "outputs": [
    {
     "name": "stdout",
     "output_type": "stream",
     "text": [
      "Model accuracy： 0.8355263157894737\n"
     ]
    }
   ],
   "source": [
    "# 逻辑回归预测模型\n",
    "\n",
    "# 划分特征和标签\n",
    "X = diabetes[[1,2,3,4,5,6,7,8 ]]\n",
    "y = diabetes['Label'] # DIABETE4糖尿病标签为预测结果y\n",
    "\n",
    "\n",
    "# 划分训练集和测试集\n",
    "X_train, X_test, y_train, y_test = train_test_split(X, y, test_size=0.2, random_state=42)\n",
    "\n",
    "# 建立逻辑回归模型\n",
    "lr = LogisticRegression(solver=\"newton-cg\")\n",
    "lr.fit(X_train, y_train)\n",
    "\n",
    "# 在测试集上进行预测\n",
    "y_pred = lr.predict(X_test)\n",
    "\n",
    "# 评估模型表现\n",
    "accuracy = accuracy_score(y_test, y_pred)\n",
    "print(\"Model accuracy：\", accuracy)"
   ]
  },
  {
   "cell_type": "code",
   "execution_count": 31,
   "id": "37dac458",
   "metadata": {},
   "outputs": [
    {
     "name": "stdout",
     "output_type": "stream",
     "text": [
      "              precision    recall  f1-score   support\n",
      "\n",
      "non-diabetes       0.79      0.64      0.71        47\n",
      "    diabetes       0.85      0.92      0.89       105\n",
      "\n",
      "    accuracy                           0.84       152\n",
      "   macro avg       0.82      0.78      0.80       152\n",
      "weighted avg       0.83      0.84      0.83       152\n",
      "\n"
     ]
    }
   ],
   "source": [
    "# 输出逻辑回归预测模型评估\n",
    "print(classification_report(y_test, y_pred, target_names=['non-diabetes', 'diabetes']))"
   ]
  },
  {
   "cell_type": "code",
   "execution_count": 32,
   "id": "1aeeef1d",
   "metadata": {},
   "outputs": [
    {
     "name": "stdout",
     "output_type": "stream",
     "text": [
      "Model accuracy： 0.756578947368421\n"
     ]
    }
   ],
   "source": [
    "# 随机森林预测模型\n",
    "\n",
    "# 划分特征和标签\n",
    "X = diabetes[[1,2,3,4,5,6,7,8]]\n",
    "y = diabetes['Label']\n",
    "\n",
    "# 划分训练集和测试集\n",
    "X_train, X_test, y_train, y_test = train_test_split(X, y, test_size=0.2, random_state=42)\n",
    "\n",
    "rf = RandomForestClassifier(n_estimators=100)\n",
    "rf.fit(X_train, y_train)\n",
    "y_pred = rf.predict(X_test)\n",
    "\n",
    "# 评估模型表现\n",
    "accuracy = accuracy_score(y_test, y_pred)\n",
    "print(\"Model accuracy：\", accuracy)"
   ]
  },
  {
   "cell_type": "code",
   "execution_count": 33,
   "id": "56aca4f8",
   "metadata": {},
   "outputs": [
    {
     "name": "stdout",
     "output_type": "stream",
     "text": [
      "              precision    recall  f1-score   support\n",
      "\n",
      "non-diabetes       0.61      0.60      0.60        47\n",
      "    diabetes       0.82      0.83      0.82       105\n",
      "\n",
      "    accuracy                           0.76       152\n",
      "   macro avg       0.71      0.71      0.71       152\n",
      "weighted avg       0.76      0.76      0.76       152\n",
      "\n"
     ]
    }
   ],
   "source": [
    "print(classification_report(y_test, y_pred, target_names=['non-diabetes', 'diabetes']))"
   ]
  },
  {
   "cell_type": "code",
   "execution_count": null,
   "id": "4163663a",
   "metadata": {},
   "outputs": [],
   "source": []
  }
 ],
 "metadata": {
  "kernelspec": {
   "display_name": "Python 3 (ipykernel)",
   "language": "python",
   "name": "python3"
  },
  "language_info": {
   "codemirror_mode": {
    "name": "ipython",
    "version": 3
   },
   "file_extension": ".py",
   "mimetype": "text/x-python",
   "name": "python",
   "nbconvert_exporter": "python",
   "pygments_lexer": "ipython3",
   "version": "3.10.9"
  }
 },
 "nbformat": 4,
 "nbformat_minor": 5
}
